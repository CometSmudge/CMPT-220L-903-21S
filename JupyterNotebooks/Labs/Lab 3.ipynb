{
 "cells": [
  {
   "cell_type": "markdown",
   "metadata": {},
   "source": [
    "# Lab Three\n",
    "---\n",
    "\n",
    "For this lab we're going to be making and using a bunch of functions. \n",
    "\n",
    "Our Goals are:\n",
    "- Switch Case\n",
    "- Looping\n",
    "- Making our own functions\n",
    "- Combining functions\n",
    "- Structuring solutions"
   ]
  },
  {
   "cell_type": "code",
   "execution_count": null,
   "metadata": {},
   "outputs": [],
   "source": [
    "// Give me an example of you using switch case.\n",
    "String house = \"BlueLions\";\n",
    "\n",
    "switch(house){\n",
    "    case \"BlueLions\":\n",
    "        System.out.println(\"Dimitri\");\n",
    "    case \"BlackEagles\":\n",
    "        System.put.println(\"Edelgard\");\n",
    "    case \"GoldenDeer\":\n",
    "        System.out.println(\"Claude\");\n",
    "}"
   ]
  },
  {
   "cell_type": "code",
   "execution_count": null,
   "metadata": {},
   "outputs": [],
   "source": [
    "// Give me an example of you using a for loop\n",
    "for int x = 10; x > -1; x--) {\n",
    "    System.out.println(x);\n",
    "}"
   ]
  },
  {
   "cell_type": "code",
   "execution_count": null,
   "metadata": {},
   "outputs": [],
   "source": [
    "// Give me an example of you using a for each loop\n",
    "int[] numbers = {1, 2, 3, 4, 5};\n",
    "\n",
    "for (int number: numbers) {\n",
    "    System.out.println(number);\n",
    "}"
   ]
  },
  {
   "cell_type": "code",
   "execution_count": 1,
   "metadata": {},
   "outputs": [
    {
     "output_type": "stream",
     "name": "stdout",
     "text": [
      "not 10\n",
      "not 10\n",
      "not 10\n",
      "not 10\n",
      "not 10\n",
      "not 10\n",
      "not 10\n",
      "not 10\n",
      "not 10\n",
      "not 10\n",
      "not 10\n",
      "is 10\n"
     ]
    }
   ],
   "source": [
    "// Give me an example of you using a while loop\n",
    "int x = 0;\n",
    "int stop = 11;\n",
    "while (x < stop) {\n",
    "    System.out.println(\"not 10\");\n",
    "    x++;\n",
    "}\n",
    "System.out.println(\"is 10\");"
   ]
  },
  {
   "cell_type": "code",
   "execution_count": 5,
   "metadata": {},
   "outputs": [
    {
     "output_type": "stream",
     "name": "stdout",
     "text": [
      "8\n"
     ]
    }
   ],
   "source": [
    "// I want you to write a function that will take in a number and raise it to the power given. \n",
    "\n",
    "// For example if given the numbers 2 and 3. The math that the function should do is 2^3 and should print out or return 8. Print the output.\n",
    "\n",
    "int base = 2;\n",
    "int power = 3;\n",
    "\n",
    "int newbase = base;\n",
    "for (int x = 1; x < power; x++){\n",
    "    newbase = newbase * base;\n",
    "   \n",
    "}\n",
    "System.out.println(newbase);"
   ]
  },
  {
   "cell_type": "code",
   "execution_count": 9,
   "metadata": {},
   "outputs": [
    {
     "output_type": "stream",
     "name": "stdout",
     "text": [
      "3\n"
     ]
    }
   ],
   "source": [
    "// I want you to write a function that will take in a list and see how many times a given number is in the list. \n",
    "\n",
    "// For example if the array given is [2,3,5,2,3,6,7,8,2] and the number given is 2 the function should print out or return 3. Print the output.\n",
    "int[] numbers = {2,3,5,2,3,6,7,8,2};\n",
    "int givenNumber = 2;\n",
    "int counter = 0;\n",
    "for (int number: numbers) {\n",
    "    if (number == givenNumber){\n",
    "        counter++;\n",
    "    }\n",
    "}\n",
    "System.out.println(counter);"
   ]
  },
  {
   "cell_type": "code",
   "execution_count": 10,
   "metadata": {},
   "outputs": [
    {
     "output_type": "error",
     "ename": "IncompleteSourceException",
     "evalue": "int addition(int a, int b) {\n    int answer = a + b;\nreturn answer;",
     "traceback": [
      "\u001b[1m\u001b[31mIncomplete input:\u001b[0m",
      "\u001b[1m\u001b[30m|   \u001b[1m\u001b[30mint addition(int a, int b) {\u001b[0m",
      "\u001b[1m\u001b[30m|   \u001b[1m\u001b[30m    int answer = a + b;\u001b[0m",
      "\u001b[1m\u001b[30m|   \u001b[1m\u001b[30mreturn answer;\u001b[0m"
     ]
    }
   ],
   "source": [
    "// Give me a function that gives the answer to the pythagorean theorem. \n",
    "// I'd like you to reuse the exponent function from above as well as the functions below to make your function.\n",
    "\n",
    "// If you don't remember the pythagorean theorem the formula is (a^2 + b^2 = c^2). Given a and b as parameters i'd like you to return c. \n",
    "// If this doesn't make sense look up `Pythagorean Theorem Formula` on google.\n",
    "\n",
    "int addition(int a, int b) {\n",
    "    int answer = a + b;\n",
    "    return answer;\n",
    "}\n",
    "\n",
    "int division(int a, int b) {\n",
    "    int answer = a / b;\n",
    "    return answer;\n",
    "}\n",
    "int a = 3;\n",
    "int b = 4;\n",
    "int a = a * a;\n",
    "int b = b * b;\n",
    "int addition(int a, int b) {\n",
    "    int answer = a + b;\n",
    "return answer;\n",
    "\n",
    "\n",
    "\n",
    "\n"
   ]
  },
  {
   "cell_type": "code",
   "execution_count": null,
   "metadata": {},
   "outputs": [],
   "source": []
  }
 ],
 "metadata": {
  "kernelspec": {
   "display_name": "Java",
   "language": "java",
   "name": "java"
  },
  "language_info": {
   "codemirror_mode": {
    "name": "ipython",
    "version": 3
   },
   "file_extension": ".py",
   "mimetype": "text/x-python",
   "name": "python",
   "nbconvert_exporter": "python",
   "pygments_lexer": "ipython3",
   "version": "3.8.5-final"
  },
  "orig_nbformat": 2
 },
 "nbformat": 4,
 "nbformat_minor": 2
}