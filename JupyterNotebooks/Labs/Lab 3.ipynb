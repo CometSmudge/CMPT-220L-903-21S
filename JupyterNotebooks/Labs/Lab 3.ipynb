{
 "cells": [
  {
   "cell_type": "markdown",
   "metadata": {},
   "source": [
    "# Lab Three\n",
    "---\n",
    "\n",
    "For this lab we're going to be making and using a bunch of functions. \n",
    "\n",
    "Our Goals are:\n",
    "- Switch Case\n",
    "- Looping\n",
    "- Making our own functions\n",
    "- Combining functions\n",
    "- Structuring solutions"
   ]
  },
  {
   "cell_type": "code",
   "execution_count": null,
   "metadata": {},
   "outputs": [],
   "source": [
    "// Give me an example of you using switch case.\n",
    "String color = \"blue\"\n",
    "\n",
    "switch(color){\n",
    "    case \"blue\":\n",
    "        System.out.println(\"Blue Lions\");\n",
    "        break;\n",
    "    case \"red\":\n",
    "        System.out.println(\"Black Eagles\");\n",
    "        break;\n",
    "    case \"yellow\":\n",
    "        System.out.println(\"Golden Deer\");\n",
    "        break;\n",
    "    default:\n",
    "        System.out.println(\"not a house color\");\n",
    "}"
   ]
  },
  {
   "cell_type": "code",
   "execution_count": null,
   "metadata": {},
   "outputs": [],
   "source": [
    "// Give me an example of you using a for loop\n",
    "for (int x = 0; x < 5; x++) {\n",
    "    System.out.println(x);\n",
    "}"
   ]
  },
  {
   "cell_type": "code",
   "execution_count": null,
   "metadata": {},
   "outputs": [],
   "source": [
    "// Give me an example of you using a for each loop\n",
    "String[] leaders = {\"Dimitri\", \"Claude\", \"Edelgard\"};\n",
    "\n",
    "for (String color: leaders) {\n",
    "    System.out.println(name);\n",
    "}"
   ]
  },
  {
   "cell_type": "code",
   "execution_count": null,
   "metadata": {},
   "outputs": [],
   "source": [
    "// Give me an example of you using a while loop\n",
    "int number = 0;\n",
    "\n",
    "while (number!= 5) {\n",
    "    System.out.println(\"This is not 5\");\n",
    "    position++;\n",
    "}\n",
    "\n",
    "System.out.println(\"This is 5\");"
   ]
  },
  {
   "cell_type": "code",
   "execution_count": 5,
   "metadata": {},
   "outputs": [],
   "source": [
    "// I want you to write a function that will take in a number and raise it to the power given. \n",
    "\n",
    "// For example if given the numbers 2 and 3. The math that the function should do is 2^3 and should print out or return 8. Print the output.\n",
    "Scanner input = new Scanner(System.in);\n",
    "System.out.println(\"Enter a number\");\n",
    "int x = in.nextInt();\n",
    "System.out.println(\"Enter a power to raise it to\");\n",
    "int y = in.nextInt();\n",
    "answer = x^y;\n",
    "System.out.println(answer);"
   ]
  },
  {
   "cell_type": "code",
   "execution_count": 6,
   "metadata": {},
   "outputs": [],
   "source": [
    "// I want you to write a function that will take in a list and see how many times a given number is in the list. \n",
    "\n",
    "// For example if the array given is [2,3,5,2,3,6,7,8,2] and the number given is 2 the function should print out or return 3. Print the output.\n"
   ]
  },
  {
   "cell_type": "code",
   "execution_count": 7,
   "metadata": {},
   "outputs": [],
   "source": [
    "// Give me a function that gives the answer to the pythagorean theorem. \n",
    "// I'd like you to reuse the exponent function from above as well as the functions below to make your function.\n",
    "\n",
    "// If you don't remember the pythagorean theorem the formula is (a^2 + b^2 = c^2). Given a and b as parameters i'd like you to return c. \n",
    "// If this doesn't make sense look up `Pythagorean Theorem Formula` on google.\n",
    "\n",
    "int addition(int a, int b) {\n",
    "    int answer = a + b;\n",
    "    return answer;\n",
    "}\n",
    "\n",
    "int division(int a, int b) {\n",
    "    int answer = a / b;\n",
    "    return answer;\n",
    "}\n",
    "\n",
    "Scanner input = new Scanner(System.in);\n",
    "System.out.println(\"Enter a number\");\n",
    "int x = in.nextInt();\n",
    "int a = x^2;\n",
    "Scanner input = new Scanner(System.in);\n",
    "System.out.println(\"Enter a number\");\n",
    "int x = in.nextInt();\n",
    "int b = x^2;\n",
    "int addition(int a, int b) {\n",
    "    int answer = a + b;\n",
    "int c = answer^.5;\n",
    "return c\n"
   ]
  }
 ],
 "metadata": {
  "kernelspec": {
   "display_name": "Java",
   "language": "java",
   "name": "java"
  },
  "language_info": {
   "codemirror_mode": {
    "name": "ipython",
    "version": 3
   },
   "file_extension": ".py",
   "mimetype": "text/x-python",
   "name": "python",
   "nbconvert_exporter": "python",
   "pygments_lexer": "ipython3",
   "version": "3.8.5-final"
  },
  "orig_nbformat": 2
 },
 "nbformat": 4,
 "nbformat_minor": 2
}