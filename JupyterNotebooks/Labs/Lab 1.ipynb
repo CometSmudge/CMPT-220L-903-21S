{
 "cells": [
  {
   "cell_type": "markdown",
   "metadata": {},
   "source": [
    "# Lab One\n",
    "---\n",
    "\n",
    "Ok for this lab we're going to reiterate a lot of the things that we went over in class.\n",
    "\n",
    "Our Goals are:\n",
    "- Binary Math\n",
    "- Defining Variables\n",
    "    - Primitive Types\n",
    "    - Reference Types\n",
    "- Using Math\n",
    "- Manipulating Variables"
   ]
  },
  {
   "cell_type": "markdown",
   "metadata": {},
   "source": [
    "For this section I just want you to type the answer. I know that you can just look this up but try and do the math. \n",
    "### What is 1000 in Decimal\n",
    "\n",
    "### What is 1000 1001 in Decimal (This is a byte. It's just split for readability)\n",
    "\n",
    "### What is 1010 1111 in Decimal (This is a byte. It's just split for readability)\n",
    "\n",
    "### What is 0101 1010 in Decimal (This is a byte. It's just split for readability)"
   ]
  },
  {
   "cell_type": "code",
   "execution_count": 13,
   "metadata": {},
   "outputs": [
    {
     "output_type": "stream",
     "name": "stdout",
     "text": [
      "true\n",
      "2\n",
      "234\n",
      "5\n",
      "1305\n",
      "0.1234\n",
      "0.22\n",
      "c\n"
     ]
    }
   ],
   "source": [
    "// Define 8 variables, one of each type listed: [boolean, byte, short, int, long, float, double, char]. Print all 8 of them.\n",
    "\n",
    "boolean boo = true;\n",
    "System.out.println(boo);\n",
    "\n",
    "byte bite = 2;\n",
    "System.out.println(bite);\n",
    "\n",
    "short notTall = 234;\n",
    "System.out.println(notTall);\n",
    "\n",
    "int intint = 5;\n",
    "System.out.println(intint);\n",
    "\n",
    "long bignumber = 1305;\n",
    "System.out.println(bignumber);\n",
    "\n",
    "float balloon = .1234f;\n",
    "System.out.println(balloon);\n",
    "\n",
    "double twice = .22;\n",
    "System.out.println(twice);\n",
    "\n",
    "char charizard = 'c';\n",
    "System.out.println(charizard);"
   ]
  },
  {
   "cell_type": "code",
   "execution_count": 15,
   "metadata": {},
   "outputs": [],
   "source": [
    "// Make me a list of any type\n",
    "int[] numbers = {3, 4, 27, 12};"
   ]
  },
  {
   "cell_type": "code",
   "execution_count": 16,
   "metadata": {},
   "outputs": [
    {
     "output_type": "stream",
     "name": "stdout",
     "text": [
      "7\n",
      "-1\n",
      "0\n",
      "12\n",
      "3\n"
     ]
    }
   ],
   "source": [
    "// With whatever variables you'd like demonstrate the following: [Addition, Subtraction, Division, Multiplication, Modulo]. Print all 5.\n",
    "int aa = 3;\n",
    "int bb = 4;\n",
    "System.out.println(aa + bb);\n",
    "System.out.println(aa - bb);\n",
    "System.out.println(aa / bb);\n",
    "System.out.println(aa * bb);\n",
    "System.out.println(aa % bb);"
   ]
  },
  {
   "cell_type": "code",
   "execution_count": 19,
   "metadata": {},
   "outputs": [
    {
     "output_type": "stream",
     "name": "stdout",
     "text": [
      "57\n"
     ]
    }
   ],
   "source": [
    "// Using 2 variables and addition print the number 57\n",
    "int first = 50;\n",
    "int second = 7;\n",
    "System.out.println(first + second);"
   ]
  },
  {
   "cell_type": "code",
   "execution_count": 21,
   "metadata": {},
   "outputs": [
    {
     "output_type": "stream",
     "name": "stdout",
     "text": [
      "5\n",
      "4\n"
     ]
    }
   ],
   "source": [
    "// Define a variable and print it out. Then alter the same variable and print it out. This can be through string concatenation or addition, etc.\n",
    "int number = 5;\n",
    "System.out.println(number);\n",
    "number = +4;\n",
    "System.out.println(number);"
   ]
  },
  {
   "cell_type": "code",
   "execution_count": null,
   "metadata": {},
   "outputs": [],
   "source": []
  }
 ],
 "metadata": {
  "kernelspec": {
   "display_name": "Java",
   "language": "java",
   "name": "java"
  },
  "language_info": {
   "codemirror_mode": {
    "name": "ipython",
    "version": 3
   },
   "file_extension": ".py",
   "mimetype": "text/x-python",
   "name": "python",
   "nbconvert_exporter": "python",
   "pygments_lexer": "ipython3",
   "version": "3.8.5-final"
  },
  "orig_nbformat": 2
 },
 "nbformat": 4,
 "nbformat_minor": 2
}