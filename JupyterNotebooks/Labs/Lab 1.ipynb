{
 "cells": [
  {
   "cell_type": "markdown",
   "metadata": {},
   "source": [
    "# Lab One\n",
    "---\n",
    "\n",
    "Ok for this lab we're going to reiterate a lot of the things that we went over in class.\n",
    "\n",
    "Our Goals are:\n",
    "- Binary Math\n",
    "- Defining Variables\n",
    "    - Primitive Types\n",
    "    - Reference Types\n",
    "- Using Math\n",
    "- Manipulating Variables"
   ]
  },
  {
   "cell_type": "markdown",
   "metadata": {},
   "source": [
    "For this section I just want you to type the answer. I know that you can just look this up but try and do the math. \n",
    "### What is 1000 in Binary 8\n",
    "\n",
    "### What is 1000 1001 in Binary (This is a byte. It's just split for readability) 137\n",
    "\n",
    "### What is 1010 1111 in Binary (This is a byte. It's just split for readability) 175\n",
    "\n",
    "### What is 0101 1010 in Binary (This is a byte. It's just split for readability) 90"
   ]
  },
  {
   "cell_type": "code",
   "execution_count": null,
   "metadata": {},
   "outputs": [],
   "source": [
    "// Define 8 variables, one of each type listed: [boolean, byte, short, int, long, float, double, char]. Print all 8 of them.\n",
    "    \n",
    "    boolean thingy = true;\n",
    "    byte number = 1;\n",
    "    short shortnumber = 32;\n",
    "    int integer = 5;\n",
    "    long longnumber = 500;\n",
    "    float boat = .1415;\n",
    "    double boatboat = .1324;\n",
    "    char character = c\n",
    "    \n",
    "    System.out.println(thingy);\n",
    "    System.out.println(number);\n",
    "    System.out.println(shortnumber);\n",
    "    System.out.println(integer);\n",
    "    System.out.println(longnumber);\n",
    "    System.out.println(boat);\n",
    "    System.out.println(boatboat);\n",
    "    System.out.println(character);"
   ]
  },
  {
   "cell_type": "code",
   "execution_count": null,
   "metadata": {},
   "outputs": [],
   "source": [
    "// Make me a list of any type\n",
    "List listA = new ArrayList();"
   ]
  },
  {
   "cell_type": "code",
   "execution_count": null,
   "metadata": {},
   "outputs": [],
   "source": [
    "// With whatever variables you'd like demonstrate the following: [Addition, Subtraction, Division, Multiplication, Modulo]. Print all 5.\n",
    "int first = 4;\n",
    "int second = 2;\n",
    "System.out.println(first + second);\n",
    "System.out.println(first - second);\n",
    "System.out.println(first / second);\n",
    "System.out.println(first * second);\n",
    "System.out.println(first % second);"
   ]
  },
  {
   "cell_type": "code",
   "execution_count": null,
   "metadata": {},
   "outputs": [],
   "source": [
    "// Using 2 variables and addition print the number 57\n",
    "int number = 50;\n",
    "int othernumber = 7;\n",
    "System.out.println(number + othernumber);"
   ]
  },
  {
   "cell_type": "code",
   "execution_count": null,
   "metadata": {},
   "outputs": [],
   "source": [
    "// Define a variable and print it out. Then alter the same variable and print it out. This can be through string concatenation or addition, etc.\n",
    "int number = 4;\n",
    "System.out.println(number);\n",
    "number = number + 4\n",
    "System.out.println(number);"
   ]
  }
 ],
 "metadata": {
  "kernelspec": {
   "display_name": "Java",
   "language": "java",
   "name": "java"
  },
  "language_info": {
   "codemirror_mode": {
    "name": "ipython",
    "version": 3
   },
   "file_extension": ".py",
   "mimetype": "text/x-python",
   "name": "python",
   "nbconvert_exporter": "python",
   "pygments_lexer": "ipython3",
   "version": "3.8.5-final"
  }
 },
 "nbformat": 4,
 "nbformat_minor": 2
}
