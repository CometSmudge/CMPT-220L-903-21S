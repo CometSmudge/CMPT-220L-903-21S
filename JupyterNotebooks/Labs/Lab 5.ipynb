{
 "cells": [
  {
   "cell_type": "markdown",
   "metadata": {},
   "source": [
    "# Lab Five\n",
    "---\n",
    "\n",
    "For this lab we're going to be messing around with our Linear Data Types!\n",
    "\n",
    "Our Goals are:\n",
    "- Creating an Array\n",
    "- Creating an ArrayList\n",
    "- Creating an LinkedList\n",
    "- Creating an Queue\n",
    "- Creating an Stack \n",
    "\n",
    "Please show the ability to:\n",
    "- Create these data types\n",
    "- Populate the data types\n",
    "- Print out the Linear Data Types"
   ]
  },
  {
   "cell_type": "code",
   "execution_count": null,
   "metadata": {},
   "outputs": [],
   "source": [
    "// Create an Array, Populate it, and Print it out\n",
    "int[] arrray = {1, 3, 55, 2036};\n",
    "System.out.println(arrray);"
   ]
  },
  {
   "cell_type": "code",
   "execution_count": null,
   "metadata": {},
   "outputs": [],
   "source": [
    "// Create an ArrayList, Populate it, and Print it out\n",
    "import java.util.ArrayList;\n",
    "ArrayList<Integer> arrrayliist = new ArrayList(Arrays.asList(23, 55, 67, 882, 999));\n",
    "System.out.println(arrrayliist);"
   ]
  },
  {
   "cell_type": "code",
   "execution_count": null,
   "metadata": {},
   "outputs": [],
   "source": [
    "// Create an LinkedList, Populate it, and Print it out\n",
    "import java.util.LinkedList;\n",
    "LinkedList<Integer> ZeldadList = new LinkedList<Integer>();\n",
    "ZeldadList.add(3);\n",
    "ZeldadList.add(12);\n",
    "ZeldadList.add(13);\n",
    "ZeldadList.add(100);\n",
    "ZeldadList.add(10000);\n",
    "System.out.println(ZeldadList);"
   ]
  },
  {
   "cell_type": "code",
   "execution_count": null,
   "metadata": {},
   "outputs": [],
   "source": [
    "// Create an Queue, Populate it, and Print it out\n",
    "import java.util.Queue;\n",
    "\n",
    "Queue<String> QQQ = new LinkedList<String>();\n",
    "QQQ.add(\"Cat\");\n",
    "QQQ.add(\"Dog\");\n",
    "QQQ.add(\"Fish\");\n",
    "QQQ.add(\"Bird\");\n",
    "System.out.println(QQQ);"
   ]
  },
  {
   "cell_type": "code",
   "execution_count": null,
   "metadata": {},
   "outputs": [],
   "source": [
    "// Create an Stack, Populate it, and Print it out\n",
    "import java.util.Stack;\n",
    "Stack<String> mtg = new Stack<String>();\n",
    "\n",
    "stack.mtg(\"LightingBolt\");\n",
    "stack.mtg(\"Counterspell\");\n",
    "stack.mtg(\"Cancel\");\n",
    "stack.mtg(\"TitanicGrowth\");\n",
    "System.out.println(mtg);"
   ]
  }
 ],
 "metadata": {
  "kernelspec": {
   "display_name": "Java",
   "name": "java"
  },
  "language_info": {
   "name": "java"
  },
  "orig_nbformat": 2
 },
 "nbformat": 4,
 "nbformat_minor": 2
}