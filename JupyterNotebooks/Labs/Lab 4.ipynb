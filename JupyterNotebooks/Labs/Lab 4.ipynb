{
 "metadata": {
  "language_info": {
   "codemirror_mode": {
    "name": "ipython",
    "version": 3
   },
   "file_extension": ".py",
   "mimetype": "text/x-python",
   "name": "python",
   "nbconvert_exporter": "python",
   "pygments_lexer": "ipython3",
   "version": "3.8.5-final"
  },
  "orig_nbformat": 2,
  "kernelspec": {
   "name": "python3",
   "display_name": "Python 3.8.5 64-bit",
   "metadata": {
    "interpreter": {
     "hash": "082e9a3bcad0a290d0001e938aa60b99250c6c2ef33a923c00b70f9826caf4b7"
    }
   }
  }
 },
 "nbformat": 4,
 "nbformat_minor": 2,
 "cells": [
  {
   "source": [
    "# Lab Four\n",
    "---\n",
    "\n",
    "For this lab we're going to be messing around with Markdown!\n",
    "\n",
    "Our Goals are:\n",
    "- Using Markdown!\n",
    "\n",
    "I want you to describe to me your process of converting the assignment and making it DRY. \n",
    "\n",
    "Please show the ability to:\n",
    "- Make a header\n",
    "- Make a list (ordered or unordered)\n",
    "- Link the Markdown Guide from the lesson. \n",
    "- Artuculate your thought process.\n",
    "\n",
    "# Header\n",
    "- I made a function called customers that used the amount of pretzles bught, lemonade bought, and the amount tipped for each customer.\n",
    "- It subtracted the amount of pretlzes and lemonade bought from the amount left.\n",
    "- It added the amount of money that was spent to the cash by multiplying the amount bought by the price. \n",
    "- It added the amount tipped to the tips.\n",
    "- I used the function for each customer to get the amount listed. \n",
    "https://www.markdownguide.org"
   ],
   "cell_type": "markdown",
   "metadata": {}
  }
 ]
}