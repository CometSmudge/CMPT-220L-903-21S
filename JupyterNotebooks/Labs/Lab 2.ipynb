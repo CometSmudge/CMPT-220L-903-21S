{
 "cells": [
  {
   "cell_type": "markdown",
   "metadata": {},
   "source": [
    "# Lab Two\n",
    "---\n",
    "\n",
    "Ok for this lab we're going to reiterate a lot of the things that we went over in class.\n",
    "\n",
    "Our Goals are:\n",
    "- Conditionals\n",
    "    - If\n",
    "    - Else\n",
    "    - Else If"
   ]
  },
  {
   "cell_type": "code",
   "execution_count": 2,
   "metadata": {},
   "outputs": [
    {
     "output_type": "stream",
     "name": "stdout",
     "text": [
      "meow\n"
     ]
    }
   ],
   "source": [
    "// Make an if statement\n",
    "int cat = 4;\n",
    "if (cat ==4) {\n",
    "    System.out.println(\"meow\");\n",
    "}"
   ]
  },
  {
   "cell_type": "code",
   "execution_count": 3,
   "metadata": {},
   "outputs": [
    {
     "output_type": "stream",
     "name": "stdout",
     "text": [
      "woof\n"
     ]
    }
   ],
   "source": [
    "// Make an if, else statement where the else statement triggers\n",
    "int cat = 4;\n",
    "if (cat ==5) {\n",
    "    System.out.println(\"meow\");\n",
    "} else {\n",
    "    System.out.println(\"woof\");\n",
    "}"
   ]
  },
  {
   "cell_type": "code",
   "execution_count": 7,
   "metadata": {},
   "outputs": [
    {
     "output_type": "stream",
     "name": "stdout",
     "text": [
      "meoooooow\n"
     ]
    }
   ],
   "source": [
    "// Make an if, else if, else statement where the else if statement triggers\n",
    "int cat = 4;\n",
    "if (cat ==5) {\n",
    "    System.out.println(\"meow\");\n",
    "} else if (cat == 4){\n",
    "    System.out.println(\"meoooooow\");\n",
    "} else {\n",
    "    System.out.println(\"woof\");\n",
    "}"
   ]
  },
  {
   "cell_type": "code",
   "execution_count": 8,
   "metadata": {},
   "outputs": [
    {
     "output_type": "stream",
     "name": "stdout",
     "text": [
      "meowoof\n"
     ]
    }
   ],
   "source": [
    "// Make 2 variables and use them in an if else conditional\n",
    "int cat = 4;\n",
    "int dog = 4;\n",
    "if (cat == dog) {\n",
    "    System.out.println(\"meowoof\");\n",
    "} else {\n",
    "    System.out.println(\"...\");\n",
    "}"
   ]
  },
  {
   "cell_type": "code",
   "execution_count": 9,
   "metadata": {},
   "outputs": [
    {
     "output_type": "stream",
     "name": "stdout",
     "text": [
      "meowoof\n"
     ]
    }
   ],
   "source": [
    "// Make an if statement using 2 variables and an AND(&&) statement\n",
    "int cat = 4;\n",
    "int dog = 5;\n",
    "if (cat ==4 && dog == 5) {\n",
    "    System.out.println(\"meowoof\");\n",
    "}"
   ]
  },
  {
   "cell_type": "code",
   "execution_count": 10,
   "metadata": {},
   "outputs": [
    {
     "output_type": "stream",
     "name": "stdout",
     "text": [
      "meowoof\n"
     ]
    }
   ],
   "source": [
    "// Make an if statement using 2 variables and an OR(||) statement\n",
    "int cat = 4;\n",
    "int dog = 6078;\n",
    "if (cat ==4 || dog == 5) {\n",
    "    System.out.println(\"meowoof\");\n",
    "}"
   ]
  },
  {
   "cell_type": "code",
   "execution_count": null,
   "metadata": {},
   "outputs": [],
   "source": []
  }
 ],
 "metadata": {
  "kernelspec": {
   "display_name": "Java",
   "name": "java",
   "language": "java"
  },
  "language_info": {
   "name": "java"
  },
  "orig_nbformat": 2
 },
 "nbformat": 4,
 "nbformat_minor": 2
}